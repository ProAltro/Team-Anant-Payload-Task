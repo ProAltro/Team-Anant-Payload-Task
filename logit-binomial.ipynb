{
 "cells": [
  {
   "cell_type": "markdown",
   "metadata": {},
   "source": [
    "# Binary Classification\n",
    "\n",
    "First I will try implementing a binomial logistic regression. It will classify yes or no for a given species.\n",
    "\n",
    "While it is possible to use sklearn for this, we will write the implementation with just pandas and numpy because it is more fun."
   ]
  },
  {
   "cell_type": "code",
   "execution_count": 514,
   "metadata": {},
   "outputs": [
    {
     "name": "stdout",
     "output_type": "stream",
     "text": [
      "   Id  SepalLengthCm  SepalWidthCm  PetalLengthCm  PetalWidthCm      Species\n",
      "0   1            5.1           3.5            1.4           0.2  Iris-setosa\n",
      "1   2            4.9           3.0            1.4           0.2  Iris-setosa\n",
      "2   3            4.7           3.2            1.3           0.2  Iris-setosa\n",
      "3   4            4.6           3.1            1.5           0.2  Iris-setosa\n",
      "4   5            5.0           3.6            1.4           0.2  Iris-setosa\n",
      "\n",
      "               Id  SepalLengthCm  SepalWidthCm  PetalLengthCm  PetalWidthCm\n",
      "count  150.000000     150.000000    150.000000     150.000000    150.000000\n",
      "mean    75.500000       5.843333      3.054000       3.758667      1.198667\n",
      "std     43.445368       0.828066      0.433594       1.764420      0.763161\n",
      "min      1.000000       4.300000      2.000000       1.000000      0.100000\n",
      "25%     38.250000       5.100000      2.800000       1.600000      0.300000\n",
      "50%     75.500000       5.800000      3.000000       4.350000      1.300000\n",
      "75%    112.750000       6.400000      3.300000       5.100000      1.800000\n",
      "max    150.000000       7.900000      4.400000       6.900000      2.500000\n"
     ]
    }
   ],
   "source": [
    "import pandas as pd, numpy as np, matplotlib.pyplot as plt\n",
    "\n",
    "data = pd.read_csv('./datasets/iris.csv')\n",
    "print(data.head())\n",
    "print()\n",
    "print(data.describe())"
   ]
  },
  {
   "cell_type": "code",
   "execution_count": 515,
   "metadata": {},
   "outputs": [
    {
     "data": {
      "text/plain": [
       "(array([100.,   0.,   0.,   0.,   0.,   0.,   0.,   0.,   0.,  50.]),\n",
       " array([0. , 0.1, 0.2, 0.3, 0.4, 0.5, 0.6, 0.7, 0.8, 0.9, 1. ]),\n",
       " <BarContainer object of 10 artists>)"
      ]
     },
     "execution_count": 515,
     "metadata": {},
     "output_type": "execute_result"
    },
    {
     "data": {
      "image/png": "[encoded data removed]",
      "text/plain": [
       "<Figure size 640x480 with 1 Axes>"
      ]
     },
     "metadata": {},
     "output_type": "display_data"
    }
   ],
   "source": [
    "species = data['Species'].unique()\n",
    "# print(species)   ['Iris-setosa' 'Iris-versicolor' 'Iris-virginica']\n",
    "\n",
    "spec = \"Iris-virginica\"\n",
    "data['Species'] = data['Species'].map(lambda x: 1 if x == spec else 0)\n",
    "\n",
    "# Plot number of spec and non spec\n",
    "plt.hist(data['Species'])"
   ]
  },
  {
   "cell_type": "markdown",
   "metadata": {},
   "source": [
    "Copied from https://www.kaggle.com/code/jagannathrk/logistic-regression-from-scratch-python\n",
    "\n",
    "The sigmoid function is the function we are trying to fit to the data. The weights are what need to be found and they represent (roughly) how much each feature or independant variables affects the probablity.\n",
    "\n",
    "The loss function essentially tells us how off the prediction is. This loss function is what the the model tries to minimise by gradient desecnt (moving in direction of the negative gradient). The functions that follow to (a) calculate the gradient given the loss and the current weights and (b) to update the weights."
   ]
  },
  {
   "cell_type": "code",
   "execution_count": 516,
   "metadata": {},
   "outputs": [],
   "source": [
    "# THe logistic function  we are trying to fit\n",
    "def sigmoid(X, weight):\n",
    "    z = np.dot(X, weight)\n",
    "    return 1 / (1 + np.exp(-z))\n",
    "\n",
    "\n",
    "# Gradient Descent\n",
    "def loss(h, y):\n",
    "    return (-y * np.log(h) - (1 - y) * np.log(1 - h)).mean()\n",
    "\n",
    "def gradient_descent(X, h, y):\n",
    "    return np.dot(X.T, (h - y)) / y.shape[0]\n",
    "\n",
    "def update_weight_loss(weight, learning_rate, gradient):\n",
    "    return weight - learning_rate * gradient"
   ]
  },
  {
   "cell_type": "markdown",
   "metadata": {},
   "source": [
    "### On the selection of the hyperparameters (epochs and lr)\n",
    "\n",
    "After messing around with the parameters, it appears that `Iris-setosa` and `Iris-virginica` can be classified with above 99% accuracy, whereas `Iris-versicolor` can only reach around 75% accuracy with logisitc regression.\n",
    "\n",
    "\n",
    "#### Side notes:\n",
    "- The training-testing idea has been used to bifurcate the dataset to check for overfitting. I have not used a validation set as that seemed unecsessary.\n",
    "\n",
    "- It was very interesting to observe the effet of normalizing the features before training. Without normalizing it, the loss function was erratic but still achieved the same accuracy eventually. With normalization, the loss function is smooth."
   ]
  },
  {
   "cell_type": "code",
   "execution_count": 517,
   "metadata": {},
   "outputs": [],
   "source": [
    "#Normalize the data except the target\n",
    "def normalize(X):\n",
    "    for feature in X.columns:\n",
    "        mean = X[feature].mean()  \n",
    "        std = X[feature].std()\n",
    "        X.loc[:, feature] = (X[feature] - mean) / std\n",
    "\n",
    "    return X\n",
    "\n",
    "# Split the data into training and test sets\n",
    "train_data = data.sample(frac=0.8)\n",
    "test_data = data.drop(train_data.index)\n",
    "\n",
    "X = train_data[['SepalLengthCm', 'SepalWidthCm', 'PetalLengthCm', 'PetalWidthCm']]\n",
    "X = normalize(X)\n",
    "X = np.c_[np.ones(X.shape[0]), X]\n",
    "y = train_data['Species']"
   ]
  },
  {
   "cell_type": "code",
   "execution_count": 518,
   "metadata": {},
   "outputs": [
    {
     "name": "stdout",
     "output_type": "stream",
     "text": [
      "0.0%: loss: 2.374967155427119 \t\n",
      "10.0%: loss: 0.2727042740027381 \t\n",
      "20.0%: loss: 0.21756537452715546 \t\n",
      "30.0%: loss: 0.18832044961595876 \t\n",
      "40.0%: loss: 0.1682513705642565 \t\n",
      "50.0%: loss: 0.15330336131068154 \t\n",
      "60.0%: loss: 0.14165829931191845 \t\n",
      "70.0%: loss: 0.1323019867196579 \t\n",
      "80.0%: loss: 0.12460594394552865 \t\n",
      "90.0%: loss: 0.11815525838617037 \t\n"
     ]
    },
    {
     "data": {
      "text/plain": [
       "Text(0, 0.5, 'Loss')"
      ]
     },
     "execution_count": 518,
     "metadata": {},
     "output_type": "execute_result"
    },
    {
     "data": {
      "image/png": "[encoded data removed]",
      "text/plain": [
       "<Figure size 640x480 with 1 Axes>"
      ]
     },
     "metadata": {},
     "output_type": "display_data"
    }
   ],
   "source": [
    "iters = 5000\n",
    "\n",
    "weights = (np.random.rand(X.shape[1])-0.5)*4\n",
    "# weights = np.zeros(X.shape[1])\n",
    "\n",
    "history = {}\n",
    "for i in range(iters):\n",
    "    h = sigmoid(X, weights)\n",
    "    gradient = gradient_descent(X, h, y)\n",
    "    weights = update_weight_loss(weights, 0.03, gradient)\n",
    "    \n",
    "    #Track the loss\n",
    "    history[i] = {'loss': loss(h, y)}\n",
    "    if i % (iters/10) == 0:\n",
    "        print(f'{i/iters * 100}%: loss: {loss(h, y)} \\t')\n",
    "\n",
    "#plot the loss\n",
    "plt.figure()\n",
    "plt.plot(list(history.keys()), [history[i]['loss'] for i in history.keys()])\n",
    "# plt.yscale('log')\n",
    "plt.xlabel('Number of Iterations')\n",
    "plt.ylabel('Loss')\n"
   ]
  },
  {
   "cell_type": "code",
   "execution_count": 519,
   "metadata": {},
   "outputs": [
    {
     "name": "stdout",
     "output_type": "stream",
     "text": [
      "Accuracy: 1.0\n"
     ]
    }
   ],
   "source": [
    "#Calculate the accuracy on the test data set\n",
    "X = test_data[['SepalLengthCm', 'SepalWidthCm', 'PetalLengthCm', 'PetalWidthCm']]\n",
    "X = normalize(X)\n",
    "X = np.c_[np.ones(X.shape[0]), X]\n",
    "y = test_data['Species']\n",
    "y_pred = np.round(sigmoid(X, weights))\n",
    "accuracy = (y == y_pred).mean()\n",
    "print(f'Accuracy: {accuracy}')"
   ]
  }
 ],
 "metadata": {
  "kernelspec": {
   "display_name": "Python 3",
   "language": "python",
   "name": "python3"
  },
  "language_info": {
   "codemirror_mode": {
    "name": "ipython",
    "version": 3
   },
   "file_extension": ".py",
   "mimetype": "text/x-python",
   "name": "python",
   "nbconvert_exporter": "python",
   "pygments_lexer": "ipython3",
   "version": "3.11.8"
  }
 },
 "nbformat": 4,
 "nbformat_minor": 2
}
