{
 "cells": [
  {
   "cell_type": "markdown",
   "metadata": {},
   "source": [
    "## The implementation of a pixel bin\n",
    "\n",
    "The image is stored in `./images/clock-tower.jpg`.\n",
    "\n",
    "The binning factor has been set as a variable to be able to experiment around with different scales"
   ]
  },
  {
   "cell_type": "code",
   "execution_count": 65,
   "metadata": {},
   "outputs": [],
   "source": [
    "import numpy as np\n",
    "from PIL import Image"
   ]
  },
  {
   "cell_type": "code",
   "execution_count": 66,
   "metadata": {},
   "outputs": [
    {
     "name": "stdout",
     "output_type": "stream",
     "text": [
      "(4032, 3024, 3)\n",
      "uint8\n",
      "[148 152 161]\n"
     ]
    }
   ],
   "source": [
    "#Load image as a np array of shape (height, width, 3)\n",
    "img = np.array(Image.open('images/clock-tower.jpg'))\n",
    "print(img.shape)\n",
    "print(img.dtype)\n",
    "print(img[0,0])"
   ]
  },
  {
   "cell_type": "markdown",
   "metadata": {},
   "source": [
    "We have to add some noise artificially to notice the de-noising effect that binning has\n",
    "\n",
    "(It was very cool to relate this with the lecture on estimations by Aashish where he explained why averages on data having symetric noises reduces noise)"
   ]
  },
  {
   "cell_type": "code",
   "execution_count": 67,
   "metadata": {},
   "outputs": [],
   "source": [
    "#Adding gausian noise to the image\n",
    "noise = np.random.normal(0, 120, img.shape)\n",
    "noisy_img = img + noise\n",
    "noisy_img = np.clip(noisy_img, 0, 255).astype(np.uint8)\n",
    "\n",
    "#Save the noisy image\n",
    "Image.fromarray(noisy_img).save('images/noisy-clock-tower.jpg')"
   ]
  },
  {
   "cell_type": "code",
   "execution_count": 68,
   "metadata": {},
   "outputs": [
    {
     "name": "stdout",
     "output_type": "stream",
     "text": [
      "(672, 504, 3)\n",
      "uint8\n"
     ]
    }
   ],
   "source": [
    "#Initialising a new empty (white) image with dimensions of the downscaled image after binning\n",
    "bin_factor = 6\n",
    "image_to_bin = noisy_img\n",
    "\n",
    "new_img = np.ones((image_to_bin.shape[0]//bin_factor, image_to_bin.shape[1]//bin_factor, 3), dtype=np.uint8)*255\n",
    "print(new_img.shape)\n",
    "print(new_img.dtype)\n",
    "\n",
    "#Save the white image\n",
    "Image.fromarray(new_img).save('images/new_img.jpg')"
   ]
  },
  {
   "cell_type": "code",
   "execution_count": 69,
   "metadata": {},
   "outputs": [],
   "source": [
    "#Naive binning\n",
    "for i in range(new_img.shape[0]):\n",
    "    for j in range(new_img.shape[1]):\n",
    "        new_img[i,j] = np.mean(image_to_bin[i*bin_factor:(i+1)*bin_factor, j*bin_factor:(j+1)*bin_factor], axis=(0,1))\n",
    "\n",
    "#Save the new image\n",
    "Image.fromarray(new_img).save('images/new_img.jpg')"
   ]
  },
  {
   "cell_type": "markdown",
   "metadata": {},
   "source": [
    "While the previous function technically does the job, a vectorized implementation of the same is much faster"
   ]
  },
  {
   "cell_type": "code",
   "execution_count": 70,
   "metadata": {},
   "outputs": [
    {
     "name": "stdout",
     "output_type": "stream",
     "text": [
      "(672, 504, 3)\n"
     ]
    }
   ],
   "source": [
    "# Vectorized version\n",
    "\n",
    "new_img = image_to_bin.reshape((image_to_bin.shape[0]//bin_factor, bin_factor, image_to_bin.shape[1]//bin_factor, bin_factor, 3)).mean(axis=(1,3)).astype(np.uint8)\n",
    "print(new_img.shape)\n",
    "Image.fromarray(new_img).save('images/new_img.jpg')"
   ]
  }
 ],
 "metadata": {
  "kernelspec": {
   "display_name": "Python 3",
   "language": "python",
   "name": "python3"
  },
  "language_info": {
   "codemirror_mode": {
    "name": "ipython",
    "version": 3
   },
   "file_extension": ".py",
   "mimetype": "text/x-python",
   "name": "python",
   "nbconvert_exporter": "python",
   "pygments_lexer": "ipython3",
   "version": "3.11.8"
  }
 },
 "nbformat": 4,
 "nbformat_minor": 2
}
