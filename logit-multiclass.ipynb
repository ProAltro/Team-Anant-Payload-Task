{
 "cells": [
  {
   "cell_type": "markdown",
   "metadata": {},
   "source": [
    "# Multi Class Classification\n",
    "\n",
    "Here is the implementation of a multi class classification using logisitc regression. "
   ]
  },
  {
   "cell_type": "code",
   "execution_count": 616,
   "metadata": {},
   "outputs": [
    {
     "name": "stdout",
     "output_type": "stream",
     "text": [
      "   Id  SepalLengthCm  SepalWidthCm  PetalLengthCm  PetalWidthCm      Species\n",
      "0   1            5.1           3.5            1.4           0.2  Iris-setosa\n",
      "1   2            4.9           3.0            1.4           0.2  Iris-setosa\n",
      "2   3            4.7           3.2            1.3           0.2  Iris-setosa\n",
      "3   4            4.6           3.1            1.5           0.2  Iris-setosa\n",
      "4   5            5.0           3.6            1.4           0.2  Iris-setosa\n",
      "\n",
      "               Id  SepalLengthCm  SepalWidthCm  PetalLengthCm  PetalWidthCm\n",
      "count  150.000000     150.000000    150.000000     150.000000    150.000000\n",
      "mean    75.500000       5.843333      3.054000       3.758667      1.198667\n",
      "std     43.445368       0.828066      0.433594       1.764420      0.763161\n",
      "min      1.000000       4.300000      2.000000       1.000000      0.100000\n",
      "25%     38.250000       5.100000      2.800000       1.600000      0.300000\n",
      "50%     75.500000       5.800000      3.000000       4.350000      1.300000\n",
      "75%    112.750000       6.400000      3.300000       5.100000      1.800000\n",
      "max    150.000000       7.900000      4.400000       6.900000      2.500000\n"
     ]
    }
   ],
   "source": [
    "import pandas as pd, numpy as np, matplotlib.pyplot as plt\n",
    "\n",
    "data = pd.read_csv(\"./datasets/iris.csv\")\n",
    "print(data.head())\n",
    "print()\n",
    "print(data.describe())"
   ]
  },
  {
   "cell_type": "markdown",
   "metadata": {},
   "source": [
    "The difference between the binary classification and multiclass classification can be seen in how we treat the `data['Species']` column. In the binary classification it was just a `1` or `0` indicating if it belonged to the species or not. Here it is a list of 3 numbers with each number in the list being probability of the item belonging to the respective species."
   ]
  },
  {
   "cell_type": "code",
   "execution_count": 617,
   "metadata": {},
   "outputs": [
    {
     "name": "stdout",
     "output_type": "stream",
     "text": [
      "(3,)\n"
     ]
    }
   ],
   "source": [
    "species = data[\"Species\"].unique()\n",
    "# print(species)   ['Iris-setosa' 'Iris-versicolor' 'Iris-virginica']\n",
    "\n",
    "conv = lambda x: np.array([i==x for i in species], dtype=int)\n",
    "data[\"Species\"] = data[\"Species\"].apply(conv)\n",
    "print(data[\"Species\"][0].shape)   "
   ]
  },
  {
   "cell_type": "markdown",
   "metadata": {},
   "source": [
    "## Functions for prediction and gradient descent\n",
    "\n",
    "Lifted and moodified from: https://towardsdatascience.com/ml-from-scratch-multinomial-logistic-regression-6dda9cbacf9d\n",
    "\n",
    "### Prediction\n",
    "\n",
    "Here we have a more complex weight matrix. The weight matrix is now not just how much each independant variable affects the classification, but a set of such vectors, one for each potential class. It will essentially spit out a vector with relative likelihoods of the flower belonging to each species.\n",
    "\n",
    "This is followed by softmax, which essentially converts the relative likelihoods into probabilities (as the sum adds up to one) and also pushes larger values higher and vice versa. It is a very common classification layer.\n",
    "\n",
    "### Loss Function\n",
    "\n",
    "For multi class classification, Cross Entropy is a very commonly used loss function. Very crudely, it checks how off the probabilites of each class differ from the true (which is usually a n elemnt 0 array with just one element being 1). It then looks at the relative error and allocates loss.\n",
    "\n",
    "### Updating Weights\n",
    "\n",
    "The `dW` and `dB` conditions are found by doing the corresponding gradients and for these common prediction functions, these are easily found.\n",
    "\n",
    "### Side Note:\n",
    "I have used weights and biases here but it is possible to stick to the previous codes style and just add a 1 column to the features(`X`). There is no particular reason i chose to do them seperately here."
   ]
  },
  {
   "cell_type": "code",
   "execution_count": 618,
   "metadata": {},
   "outputs": [],
   "source": [
    "def linearPredict(X, W,B):\n",
    "    logitScores = np.dot(X, W) + B\n",
    "    return logitScores\n",
    "\n",
    "def softmax(logitMatrix):\n",
    "    prob = np.exp(logitMatrix) / np.sum(np.exp(logitMatrix), axis=1)[:, None]\n",
    "    pred = np.argmax(prob, axis=1)\n",
    "    return prob, pred\n",
    "\n",
    "\n",
    "def crossEntropyLoss(probabilities, target):\n",
    "    return -np.sum(target * np.log(probabilities)) / target.shape[0]\n",
    "\n",
    "def gradient_descent(prob,target, X, W, B):\n",
    "    gradW = np.dot(X.T, (prob - target)) / target.shape[0]\n",
    "    gradB = np.sum(prob - target) / target.shape[0]\n",
    "    return gradW, gradB\n",
    "\n",
    "def update_weights(W, B, gradW, gradB, learning_rate):\n",
    "    W = W - learning_rate * gradW\n",
    "    B = B - learning_rate * gradB\n",
    "    return W, B\n"
   ]
  },
  {
   "cell_type": "code",
   "execution_count": 619,
   "metadata": {},
   "outputs": [
    {
     "name": "stdout",
     "output_type": "stream",
     "text": [
      "(120, 4) (120, 3)\n"
     ]
    }
   ],
   "source": [
    "# Normalize the data except the target\n",
    "def normalize(X):\n",
    "    for feature in X.columns:\n",
    "        mean = X[feature].mean()\n",
    "        std = X[feature].std()\n",
    "        X.loc[:, feature] = (X[feature] - mean) / std\n",
    "\n",
    "    return X\n",
    "\n",
    "\n",
    "# Split the data into training and test sets\n",
    "train_data = data.sample(frac=0.8)\n",
    "test_data = data.drop(train_data.index)\n",
    "\n",
    "X = train_data[[\"SepalLengthCm\", \"SepalWidthCm\", \"PetalLengthCm\", \"PetalWidthCm\"]]\n",
    "X = normalize(X)\n",
    "y = train_data[\"Species\"]\n",
    "y = np.array([i for i in y])\n",
    "\n",
    "print(X.shape, y.shape)\n",
    "\n",
    "W = np.random.rand(X.shape[1], y[0].shape[0])\n",
    "B = np.random.rand(y[0].shape[0])"
   ]
  },
  {
   "cell_type": "code",
   "execution_count": 620,
   "metadata": {},
   "outputs": [
    {
     "name": "stdout",
     "output_type": "stream",
     "text": [
      "Iteration 0 - Loss: 2.0768335637044215\n",
      "Accuracy: 0.225\n",
      "Iteration 2000 - Loss: 0.9354817321370875\n",
      "Accuracy: 0.6666666666666666\n",
      "Iteration 4000 - Loss: 0.6280411295385052\n",
      "Accuracy: 0.75\n",
      "Iteration 6000 - Loss: 0.5097760520000533\n",
      "Accuracy: 0.8666666666666667\n",
      "Iteration 8000 - Loss: 0.452013844102443\n",
      "Accuracy: 0.875\n",
      "Iteration 10000 - Loss: 0.41824475149687373\n",
      "Accuracy: 0.9\n",
      "Iteration 12000 - Loss: 0.39591085319803604\n",
      "Accuracy: 0.9\n",
      "Iteration 14000 - Loss: 0.3798247782658428\n",
      "Accuracy: 0.9083333333333333\n",
      "Iteration 16000 - Loss: 0.3675134279423607\n",
      "Accuracy: 0.9083333333333333\n",
      "Iteration 18000 - Loss: 0.35766439045826187\n",
      "Accuracy: 0.9\n"
     ]
    },
    {
     "data": {
      "image/png": "[encoded data removed]",
      "text/plain": [
       "<Figure size 640x480 with 1 Axes>"
      ]
     },
     "metadata": {},
     "output_type": "display_data"
    }
   ],
   "source": [
    "learning_rate = 0.0005\n",
    "iters = 20000\n",
    "history = {\"loss\": []}\n",
    "\n",
    "for i in range(iters):\n",
    "    logitScores = linearPredict(X, W, B)\n",
    "    probabilities, predictions = softmax(logitScores)\n",
    "    loss = crossEntropyLoss(probabilities, y)\n",
    "    gradW, gradB = gradient_descent(probabilities, y, X, W, B)\n",
    "    W, B = update_weights(W, B, gradW, gradB, learning_rate)\n",
    "    history[\"loss\"].append(loss)\n",
    "\n",
    "    if i % (iters // 10) == 0:\n",
    "        print(f\"Iteration {i} - Loss: {loss}\")\n",
    "        print(f\"Accuracy: {np.mean(predictions == np.argmax(y, axis=1))}\")\n",
    "\n",
    "plt.plot(history[\"loss\"])\n",
    "plt.xlabel(\"Iterations\")\n",
    "plt.ylabel(\"Loss\")\n",
    "plt.title(\"Loss over iterations\")\n",
    "plt.show()"
   ]
  },
  {
   "cell_type": "code",
   "execution_count": 621,
   "metadata": {},
   "outputs": [
    {
     "name": "stdout",
     "output_type": "stream",
     "text": [
      "Test loss: 0.28783451761070505\n",
      "Test accuracy: 0.9333333333333333\n"
     ]
    }
   ],
   "source": [
    "# Test the model\n",
    "X_test = test_data[[\"SepalLengthCm\", \"SepalWidthCm\", \"PetalLengthCm\", \"PetalWidthCm\"]]\n",
    "X_test = normalize(X_test)\n",
    "y_test = test_data[\"Species\"]\n",
    "y_test = np.array([i for i in y_test])\n",
    "\n",
    "logitScores = linearPredict(X_test, W, B)\n",
    "probabilities, predictions = softmax(logitScores)\n",
    "loss = crossEntropyLoss(probabilities, y_test)\n",
    "print(\"Test loss:\", loss)\n",
    "print(\"Test accuracy:\", np.mean(predictions == np.argmax(y_test, axis=1)))"
   ]
  }
 ],
 "metadata": {
  "kernelspec": {
   "display_name": ".venv",
   "language": "python",
   "name": "python3"
  },
  "language_info": {
   "codemirror_mode": {
    "name": "ipython",
    "version": 3
   },
   "file_extension": ".py",
   "mimetype": "text/x-python",
   "name": "python",
   "nbconvert_exporter": "python",
   "pygments_lexer": "ipython3",
   "version": "3.11.8"
  }
 },
 "nbformat": 4,
 "nbformat_minor": 2
}
